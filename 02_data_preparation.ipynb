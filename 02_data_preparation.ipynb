{
 "cells": [
  {
   "cell_type": "markdown",
   "id": "da2541c5",
   "metadata": {},
   "source": [
    "# Data Perparation"
   ]
  }
 ],
 "metadata": {
  "language_info": {
   "name": "python"
  }
 },
 "nbformat": 4,
 "nbformat_minor": 5
}
