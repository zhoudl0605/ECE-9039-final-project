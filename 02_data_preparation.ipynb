{
 "cells": [
  {
   "cell_type": "markdown",
   "id": "da2541c5",
   "metadata": {},
   "source": [
    "# Data Perparation\n",
    "We will use `HFTBacktest` as both the backtesting framework and the reinforcement learning environment.\n",
    "Therefore, it is essential to preprocess and convert our market data into the format required by `HFTBacktest`.\n",
    "Please refer to the official documentation for data format specifications: [HFTBacktest Data Guide](https://hftbacktest.readthedocs.io/en/latest/data.html)"
   ]
  },
  {
   "cell_type": "markdown",
   "id": "2d50b80d",
   "metadata": {},
   "source": [
    "## Load dependencies"
   ]
  },
  {
   "cell_type": "code",
   "execution_count": null,
   "id": "6a92479c",
   "metadata": {},
   "outputs": [],
   "source": [
    "import json"
   ]
  },
  {
   "cell_type": "markdown",
   "id": "c7afcb59",
   "metadata": {},
   "source": [
    "## Set constantes"
   ]
  },
  {
   "cell_type": "code",
   "execution_count": null,
   "id": "a63da4dd",
   "metadata": {},
   "outputs": [],
   "source": [
    "PATH = 'data/htx_future'"
   ]
  },
  {
   "cell_type": "markdown",
   "id": "e722c160",
   "metadata": {},
   "source": [
    "## Load data"
   ]
  },
  {
   "cell_type": "code",
   "execution_count": null,
   "id": "9f6b2050",
   "metadata": {},
   "outputs": [],
   "source": [
    "# handle each folder in the path\n",
    "for folder in ['train', 'dev', 'test']:\n",
    "    # construct the file path\n",
    "    file_path = f'{PATH}/{folder}/your_file.txt'\n",
    "    \n",
    "    # read the file and process each line\n",
    "    with open(file_path, 'r') as f:\n",
    "        for line in f:\n",
    "            # 去除行尾换行符，并进行处理\n",
    "            line = line.strip()\n",
    "            record = json.loads(line)\n",
    "            print(record)\n",
    "\n",
    "# 逐行读取文件内容\n",
    "with open('your_file.txt', 'r') as f:\n",
    "    for line in f:\n",
    "        # 去除行尾换行符，并进行处理\n",
    "        line = line.strip()\n",
    "        record = json.loads(line)\n",
    "        print(line)"
   ]
  }
 ],
 "metadata": {
  "kernelspec": {
   "display_name": "rl_pmm",
   "language": "python",
   "name": "python3"
  },
  "language_info": {
   "name": "python",
   "version": "3.13.4"
  }
 },
 "nbformat": 4,
 "nbformat_minor": 5
}
