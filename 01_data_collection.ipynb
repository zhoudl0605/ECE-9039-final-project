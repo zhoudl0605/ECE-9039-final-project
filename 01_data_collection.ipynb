{
 "cells": [
  {
   "cell_type": "markdown",
   "id": "f0fa24ee",
   "metadata": {},
   "source": [
    "# Data Collection\n",
    "\n",
    "Our data consists of real-time market data (**order book** and **trade**) fetched from the [HTX Futures Exchange](https://www.htx.com/en-us/futures/linear_swap/exchange), focusing on the following trading pairs:\n",
    "\n",
    "- BTC-USDT  \n",
    "- XRP-USDT  \n",
    "- SOL-USDT  \n",
    "- ETH-USDT  \n",
    "\n",
    "---\n",
    "\n",
    "### Why These Trading Pairs\n",
    "\n",
    "All four trading pairs — **BTC-USDT**, **XRP-USDT**, **SOL-USDT**, and **ETH-USDT** — share the following characteristics in terms of **liquidity**, **stability**, and **value preservation**:\n",
    "\n",
    "1. **High Liquidity**  \n",
    "   These pairs are among the most actively traded on both centralized and decentralized exchanges. Their high trading volumes and deep order books ensure minimal slippage, tight bid-ask spreads, and efficient entry/exit for both institutional and retail traders.\n",
    "\n",
    "2. **Relatively High Stability (Among Crypto Assets)**  \n",
    "   While all cryptocurrencies are inherently volatile, these assets — especially BTC and ETH — are considered relatively stable compared to smaller altcoins. Their large market capitalizations and mature ecosystems contribute to lower intraday volatility and fewer flash crashes. USDT, as a stablecoin, also helps anchor the pricing.\n",
    "\n",
    "3. **Strong Value Preservation Potential**  \n",
    "   These assets, particularly BTC and ETH, are widely regarded as long-term stores of value within the crypto space. BTC is often referred to as *“digital gold”*, and ETH powers the largest smart contract ecosystem. Even XRP and SOL, though more specialized, have shown resilience and regained value after market corrections."
   ]
  },
  {
   "cell_type": "markdown",
   "id": "0dab8476",
   "metadata": {},
   "source": [
    "### Before Running\n",
    "run the following command to create conda environment\n",
    "``` bash\n",
    "conda create -n rl_pmm python=3.13\n",
    "conda activate rl_pmm\n",
    "```\n",
    "\n",
    "you can deactive conda env by running\n",
    "``` bash\n",
    "conda deactivate\n",
    "```"
   ]
  },
  {
   "cell_type": "markdown",
   "id": "3641bda0",
   "metadata": {},
   "source": [
    "## Download market data\n",
    "The downloader `orderbook_trades_downloader` is a closed-source market data downloader powered by Starr Financial Group and was written in Rust. It is a specialized tool used to collect high-frequency order book and trade data for major cryptocurrency pairs, including BTC-USDT, XRP-USDT, SOL-USDT, and ETH-USDT, from HTX. And this downloader will continue downloading the 48h market data."
   ]
  },
  {
   "cell_type": "code",
   "execution_count": null,
   "id": "6a6808ac",
   "metadata": {},
   "outputs": [],
   "source": [
    "%%bash\n",
    "lib/orderbook_trades_downloader"
   ]
  }
 ],
 "metadata": {
  "kernelspec": {
   "display_name": "rl_pmm",
   "language": "python",
   "name": "python3"
  },
  "language_info": {
   "codemirror_mode": {
    "name": "ipython",
    "version": 3
   },
   "file_extension": ".py",
   "mimetype": "text/x-python",
   "name": "python",
   "nbconvert_exporter": "python",
   "pygments_lexer": "ipython3",
   "version": "3.13.4"
  }
 },
 "nbformat": 4,
 "nbformat_minor": 5
}
